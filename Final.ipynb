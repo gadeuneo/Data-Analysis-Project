{
 "cells": [
  {
   "cell_type": "markdown",
   "metadata": {},
   "source": [
    "# Final Project For DIS Computational Analysis of Big Data"
   ]
  },
  {
   "cell_type": "markdown",
   "metadata": {},
   "source": [
    "<h2>Disclaimer</h2>\n",
    "This is for educational purposes only, it should not be used to draw direct correlations between the data and the results.\n",
    "\n",
    "Python 3.6 or greater minimum.\n",
    "\n",
    "Basic Hardware Settings Used:\n",
    "Intel Core i7 6700HQ @ 2.40GHz, Turbo up to 3.5GHz\n",
    "\n",
    "Allow at least 2 hours for data processing.\n",
    "\n",
    "16 GB RAM\n",
    "\n",
    "Minimum Hardware Settings:\n",
    "4 Core CPU, 16 GB RAM\n",
    "\n",
    "Recommended Settings:\n",
    "8 Core CPU, 32 GB RAM"
   ]
  },
  {
   "cell_type": "code",
   "execution_count": 1,
   "metadata": {},
   "outputs": [],
   "source": [
    "# References of packages and documentation\n",
    "\n",
    "# https://github.com/dmarx/psaw\n",
    "# https://github.com/pushshift/api\n",
    "\n",
    "# https://www.reddit.com/wiki/search\n",
    "# https://www.reddit.com/dev/api\n",
    "# https://www.reddit.com/dev/api#GET_search\n",
    "\n",
    "# https://redditsearch.io\n",
    "\n",
    "# https://www.reddit.com/r/askreddit/.json?raw_json=1&limit=1\n",
    "\n",
    "# Search Url API setting not working at the time of writing, but if fixed, will try some of these\n",
    "# TheLastLineOfDefense.org\n",
    "# https://www.reddit.com/search?q=url%3ATheLastLineOfDefense.org\n",
    "\n",
    "# Time constraints prevented implementatation\n",
    "# IDEA: User input headline (as string), and check to give score on 'realness'"
   ]
  },
  {
   "cell_type": "code",
   "execution_count": 1,
   "metadata": {},
   "outputs": [],
   "source": [
    "# Modified function to get N listings of a subreddit,\n",
    "# returns title of post (The news headline), url source (news organization),\n",
    "# and the timestamp (date and time posted, in epoch format)\n",
    "\n",
    "import requests as rq\n",
    "import re\n",
    "\n",
    "def getUrl(string):\n",
    "    if (string is None):\n",
    "        return \"reddit.com\"\n",
    "    u = string\n",
    "    # Searches string for url, returns source url\n",
    "    # Example: https://www.cnn.com/article/some-news-story\n",
    "    # Becomes: cnn.com\n",
    "    u = re.search('//(.+?)/', string)\n",
    "    # Handle url not found\n",
    "    if (u is None):\n",
    "        return \"reddit.com\"\n",
    "    u = u.group(0)\n",
    "    u = u.strip('/')\n",
    "    u = u.split('.')\n",
    "    \n",
    "    # Catches (Convoluted) for URLs\n",
    "    if(u[0] != \"www\" and len(u) == 2):\n",
    "        u = u[0] + '.' + u[1]\n",
    "        return u\n",
    "    elif(u[0] != \"www\" and len(u) == 3):\n",
    "        u = u[0] + '.' + u[1] + '.' + u[2]\n",
    "        return u\n",
    "    elif(u[0]== \"www\" and len(u) == 4):\n",
    "        u = u[1] + '.' + u[2] + '.' + u[3]\n",
    "        return u\n",
    "    elif(u[0] == \"www\" and len(u) == 5):\n",
    "        u = u[1] + '.' + u[2] + '.' + u[3] + '.' + u[4]\n",
    "        return u\n",
    "    # Handle edge case of string len equal to 1\n",
    "    elif(len(u) == 1):\n",
    "        return \"reddit.com\"\n",
    "    else:\n",
    "        u = u[1] + '.' + u[2]\n",
    "        return u"
   ]
  },
  {
   "cell_type": "code",
   "execution_count": 2,
   "metadata": {},
   "outputs": [
    {
     "name": "stdout",
     "output_type": "stream",
     "text": [
      "0\n"
     ]
    }
   ],
   "source": [
    "import datetime as dt\n",
    "import psaw\n",
    "from psaw import PushshiftAPI\n",
    "\n",
    "# Time range to grab posts from\n",
    "start_epoch=int(dt.datetime(2015, 1, 1).timestamp())\n",
    "end_epoch=int(dt.datetime(2018,6,30).timestamp())\n",
    "# api package\n",
    "api = PushshiftAPI()\n",
    "\n",
    "# See blog post for reasoning behind classification of subreddits\n",
    "\n",
    "# Reputable subreddits for real news\n",
    "real = [\"news\", \"wordnews\", \"politics\"]\n",
    "# Real headlines that sound fake\n",
    "too_real = [\"nottheonion\"]\n",
    "\n",
    "#  Reputable, less directly news related, but has lots of sources\n",
    "real_optional = [\"economics\", \"environment\", \"law\"]\n",
    "\n",
    "# Fake headlines, not as obvious sometimes\n",
    "satire = [\"satire\", \"theonion\"]\n",
    "\n",
    "# American right-biased subreddits\n",
    "cbias = [\"conservative\", \"republican\"]\n",
    "# American left-biased subreddits\n",
    "lbias = [\"democrats\", \"liberal\"]\n",
    "# \"esist\", \"NeverTrump\"\n",
    "# Extreme bias subreddits\n",
    "er = [\"The_Donald\", \"HillaryForPrison\"] # Extreme Right\n",
    "el = [\"Impeach_Trump\", \"Fuckthealtright\"] # Extreme Left\n",
    "\n",
    "extreme_optional = [\"Bad_Cop_No_Donut\", \"copwatch\", \"Sorosforprison\", \"conspiracy\"] # Mixture\n",
    "\n",
    "l = []\n",
    "\n",
    "# Use of API to grab list of submission objects with .filter_keyword attributes\n",
    "# For example, list item l[0].title returns the title of the post\n",
    "\n",
    "# for i in range(len(satire)):\n",
    "#     l.extend(list(api.search_submissions(\n",
    "#         before=end_epoch,\n",
    "#         after=start_epoch,\n",
    "#         subreddit=satire[i],\n",
    "#         filter=['url','title','created_utc'],\n",
    "#         limit=10000\n",
    "#     )))\n",
    "\n",
    "print(len(l))"
   ]
  },
  {
   "cell_type": "code",
   "execution_count": 1,
   "metadata": {},
   "outputs": [],
   "source": [
    "# This section is for getting urls of reach news list type\n",
    "\n",
    "import pickle\n",
    "\n",
    "# Save submission objects to disk\n",
    "# with open(\"satireU.txt\", \"w\", encoding='utf-8-sig') as f:\n",
    "#     for i in range(len(l)):\n",
    "#         u = getUrl(l[i].url)\n",
    "#         if (u != \"reddit.com\" and u != \"twitter.com\" and u!= \"out.reddit.com\" and u != \"youtube.com\" and u != \"youtu.be\"):\n",
    "#             f.write(u + \"\\n\")\n",
    "#         else:\n",
    "#             continue\n",
    "\n",
    "\n",
    "# Load submission objects from disk\n",
    "realU = []\n",
    "with open(\"realUrl.txt\", \"r\", encoding='utf-8-sig') as f:\n",
    "    for line in f:\n",
    "        realU.append(line.strip('\\n'))\n",
    "\n",
    "satireU = []\n",
    "with open(\"satireUrl.txt\", \"r\", encoding='utf-8-sig') as f:\n",
    "    for line in f:\n",
    "        satireU.append(line.strip('\\n'))\n",
    "    \n",
    "lUrl = []\n",
    "with open(\"lUrl.txt\", \"r\", encoding='utf-8-sig') as f:\n",
    "    for line in f:\n",
    "        lUrl.append(line.strip('\\n'))\n",
    "\n",
    "cUrl = []\n",
    "with open(\"cUrl.txt\", \"r\", encoding='utf-8-sig') as f:\n",
    "    for line in f:\n",
    "        cUrl.append(line.strip('\\n'))\n",
    "\n",
    "erUrl = []\n",
    "with open(\"erUrl.txt\", \"r\", encoding='utf-8-sig') as f:\n",
    "    for line in f:\n",
    "        erUrl.append(line.strip('\\n'))\n",
    "        \n",
    "elUrl = []\n",
    "with open(\"elUrl.txt\", \"r\", encoding='utf-8-sig') as f:\n",
    "    for line in f:\n",
    "        elUrl.append(line.strip('\\n'))"
   ]
  },
  {
   "cell_type": "code",
   "execution_count": 4,
   "metadata": {},
   "outputs": [
    {
     "name": "stdout",
     "output_type": "stream",
     "text": [
      "16736\n"
     ]
    }
   ],
   "source": [
    "# This section is for getting headlines from each news type\n",
    "\n",
    "# https://praw.readthedocs.io/en/latest/code_overview/models/submission.html\n",
    "# https://pypi.org/project/psaw/\n",
    "# https://github.com/pushshift/api\n",
    "\n",
    "\n",
    "# Save to file\n",
    "# with open(\"satire.txt\", \"w\", encoding='utf-8-sig') as f:\n",
    "#     for i in range(len(l)):\n",
    "#         u = getUrl(l[i].url)\n",
    "#         if (u != \"reddit.com\" and u != \"twitter.com\" and u!= \"out.reddit.com\" and u != \"youtube.com\" and u != \"youtu.be\"):\n",
    "#             f.write(l[i].title + \"\\n\")\n",
    "\n",
    "\n",
    "# Append to file instead of overwrite\n",
    "\n",
    "# with open(\"test.txt\", \"a\",encoding='utf-8-sig') as f:\n",
    "#     f.write(\"appended text\")\n",
    "\n",
    "\n",
    "# Get file contents\n",
    "real = []        \n",
    "with open(\"real.txt\", \"r\", encoding='utf-8-sig') as f:\n",
    "    for line in f:\n",
    "        real.append(line.strip('\\n'))\n",
    "        \n",
    "satire = []\n",
    "with open(\"satire.txt\", \"r\", encoding='utf-8-sig') as f:\n",
    "    for line in f:\n",
    "        satire.append(line.strip('\\n'))\n",
    "\n",
    "cBias = []\n",
    "with open(\"cBias.txt\", \"r\", encoding='utf-8-sig') as f:\n",
    "    for line in f:\n",
    "        cBias.append(line.strip('\\n'))\n",
    "\n",
    "lBias = []\n",
    "with open(\"lBias.txt\", \"r\", encoding='utf-8-sig') as f:\n",
    "    for line in f:\n",
    "        lBias.append(line.strip('\\n'))\n",
    "\n",
    "erBias = []\n",
    "with open(\"erBias.txt\", \"r\", encoding='utf-8-sig') as f:\n",
    "    for line in f:\n",
    "        erBias.append(line.strip('\\n'))\n",
    "\n",
    "elBias = []\n",
    "with open(\"elBias.txt\", \"r\", encoding='utf-8-sig') as f:\n",
    "    for line in f:\n",
    "        elBias.append(line.strip('\\n'))\n",
    "        \n",
    "# print(len(real))\n",
    "print(len(satire))\n",
    "# print(len(cBias))\n",
    "# print(len(lBias))"
   ]
  },
  {
   "cell_type": "code",
   "execution_count": 5,
   "metadata": {},
   "outputs": [],
   "source": [
    "import nltk\n",
    "from nltk.corpus import stopwords\n",
    "from langdetect import detect\n",
    "import validators\n",
    "from collections import Counter\n",
    "\n",
    "# Stop words to exclude from Bag of Words Matrix\n",
    "stop_words = set(stopwords.words('english'))\n",
    "\n",
    "# Check if string is a number\n",
    "def _isnum(w):\n",
    "        try:\n",
    "            int(w)\n",
    "            return True\n",
    "        except ValueError:\n",
    "            return False\n",
    "\n",
    "# Check if string is url\n",
    "def isUrl(string):\n",
    "    try:\n",
    "        return validators.url(re.search(\"(?P<url>https?://[^\\s]+)\", string).group(\"url\"))\n",
    "    except:\n",
    "        return False\n",
    "\n",
    "# Check language of headline, useful to filter only english\n",
    "# Limiation of project timeline\n",
    "def getLang(string):\n",
    "    try:\n",
    "        l = detect(string)\n",
    "        return l\n",
    "    except:\n",
    "        return \"No\"\n",
    "\n",
    "# Main function that returns a master word list and counter objects for\n",
    "# count of words in headlines for future Machine Learning analysis\n",
    "def cleanTitle(wordList):\n",
    "    allWords = []\n",
    "    wordCount = []\n",
    "    for title in wordList:\n",
    "        if(len(title)<=1):\n",
    "            continue\n",
    "        if(isUrl(title)):\n",
    "            continue\n",
    "        # Check to make sure headline is English for simplicity\n",
    "        if (getLang(title) == \"en\"):\n",
    "            title = title.split()\n",
    "            # Set words to lowercase and remove them if they are stop words\n",
    "            words = [w.lower() for w in title if w.lower() not in stop_words]\n",
    "            # Remove numbers\n",
    "            words = [w for w in title if not _isnum(w)]\n",
    "            # Add words to list of all words, and appends count of words of title\n",
    "            allWords.extend(words)\n",
    "            wordCount.append(Counter(words))\n",
    "        else:\n",
    "            continue\n",
    "    return allWords, wordCount"
   ]
  },
  {
   "cell_type": "code",
   "execution_count": 6,
   "metadata": {},
   "outputs": [],
   "source": [
    "# Create master training/testing lists\n",
    "wordList = []\n",
    "r, rCount = cleanTitle(real)\n",
    "for word in r:\n",
    "    wordList.append(word)\n",
    "s, sCount = cleanTitle(satire)\n",
    "for word in s:\n",
    "    wordList.append(word)\n",
    "wordList = list(set(wordList))"
   ]
  },
  {
   "cell_type": "code",
   "execution_count": 6,
   "metadata": {},
   "outputs": [
    {
     "name": "stdout",
     "output_type": "stream",
     "text": [
      "52660\n"
     ]
    }
   ],
   "source": [
    "# Save to file\n",
    "# with open(\"wordList.txt\", \"w\", encoding='utf-8-sig') as f:\n",
    "#     for i in range(len(wordList)):\n",
    "#         f.write(wordList[i] + \"\\n\")\n",
    "\n",
    "# Load from file\n",
    "wordList = []\n",
    "with open(\"wordList.txt\", \"r\", encoding='utf-8-sig') as f:\n",
    "    for line in f:\n",
    "        wordList.append(line.strip('\\n'))\n",
    "\n",
    "print(len(wordList))"
   ]
  },
  {
   "cell_type": "code",
   "execution_count": 4,
   "metadata": {},
   "outputs": [],
   "source": [
    "import random\n",
    "import numpy as np\n",
    "from collections import Counter\n",
    "from sklearn.naive_bayes import BernoulliNB\n",
    "from sklearn.metrics import accuracy_score\n",
    "\n",
    "# Returns list of counts of words based on word list\n",
    "def count(counter,wordList):\n",
    "    bagItem = []\n",
    "    try:\n",
    "        for word in wordList:\n",
    "            bagItem.append(counter[word])\n",
    "    except:\n",
    "        bagItem.append(0)\n",
    "    return bagItem"
   ]
  },
  {
   "cell_type": "code",
   "execution_count": 8,
   "metadata": {},
   "outputs": [
    {
     "name": "stdout",
     "output_type": "stream",
     "text": [
      "52723\n"
     ]
    }
   ],
   "source": [
    "# Good for as a whole, not so for an individual title\n",
    "# rCount = Counter(r)\n",
    "# sCount = Counter(s)\n",
    "\n",
    "# rWords = count(rCount, wordList)\n",
    "# sWords = count(sCount, wordList)\n",
    "\n",
    "# real = all headlines of real news\n",
    "# satire = all headlines of satire news\n",
    "# wordList = set of all words in headlines\n",
    "# r = all words in real news\n",
    "# s = all words in satire news\n",
    "# rCount = count of words in each real title\n",
    "# sCount = count of words in each satire title\n",
    "\n",
    "# rWords = list of counts of words in real based on wordList\n",
    "# sWords = list of counts of words in satire based on wordList\n",
    "\n",
    "# Creates Bag of Words count for each headline\n",
    "rWords = []\n",
    "for c in rCount:\n",
    "    rWords.append(count(c, wordList))\n",
    "\n",
    "sWords = []\n",
    "for c in sCount:\n",
    "    sWords.append(count(c, wordList))\n",
    "    \n",
    "print(len(wordList))"
   ]
  },
  {
   "cell_type": "code",
   "execution_count": 14,
   "metadata": {},
   "outputs": [],
   "source": [
    "# Create numpy arrays\n",
    "rPredict = np.array(rWords)\n",
    "sPredict = np.array(sWords)"
   ]
  },
  {
   "cell_type": "code",
   "execution_count": 8,
   "metadata": {},
   "outputs": [],
   "source": [
    "# Save numpy array for guessing\n",
    "# np.save('rPredict.npy', rPredict)\n",
    "# np.save('sPredict.npy', sPredict)\n",
    "\n",
    "# Load numpy array\n",
    "rPredict = np.load('rPredict.npy')\n",
    "sPredict = np.load('sPredict.npy')"
   ]
  },
  {
   "cell_type": "code",
   "execution_count": null,
   "metadata": {},
   "outputs": [],
   "source": [
    "rPredict = list(rPredict)\n",
    "sPredict = list(sPredict)"
   ]
  },
  {
   "cell_type": "code",
   "execution_count": 16,
   "metadata": {},
   "outputs": [
    {
     "name": "stdout",
     "output_type": "stream",
     "text": [
      "(31856, 52661)\n"
     ]
    }
   ],
   "source": [
    "# Adds classification of real/satire news to each instance\n",
    "for i in range(len(rWords)):\n",
    "    rWords[i].append(1)\n",
    "for i in range(len(sWords)):\n",
    "    sWords[i].append(0)\n",
    "\n",
    "# Creates master training set\n",
    "allWords = []\n",
    "allWords.extend(rWords)\n",
    "allWords.extend(sWords)\n",
    "allWords = np.array(allWords)\n",
    "print(allWords.shape)"
   ]
  },
  {
   "cell_type": "code",
   "execution_count": 17,
   "metadata": {},
   "outputs": [],
   "source": [
    "# Gets the training/testing(validation) data\n",
    "x = [i[:-1] for i in allWords]\n",
    "y = [i[-1] for i in allWords]\n",
    "x = np.array(x)\n",
    "y = np.array(y)"
   ]
  },
  {
   "cell_type": "code",
   "execution_count": 8,
   "metadata": {},
   "outputs": [],
   "source": [
    "# Save numpy array for training\n",
    "# np.save('x_array.npy', x)\n",
    "# np.save('y_array.npy', y)\n",
    "\n",
    "# Load numpy array\n",
    "# LOAD ONLY IF RE-TRAINING MODEL\n",
    "x = np.load('x_array.npy')\n",
    "y = np.load('y_array.npy')"
   ]
  },
  {
   "cell_type": "code",
   "execution_count": 9,
   "metadata": {},
   "outputs": [
    {
     "data": {
      "text/plain": [
       "MultinomialNB(alpha=1.0, class_prior=None, fit_prior=True)"
      ]
     },
     "execution_count": 9,
     "metadata": {},
     "output_type": "execute_result"
    }
   ],
   "source": [
    "# Initial Model creation and training\n",
    "from sklearn.naive_bayes import MultinomialNB\n",
    "\n",
    "mnb = MultinomialNB()\n",
    "mnb.fit(x,y)"
   ]
  },
  {
   "cell_type": "code",
   "execution_count": 12,
   "metadata": {},
   "outputs": [
    {
     "name": "stdout",
     "output_type": "stream",
     "text": [
      "0.8776054746358614\n"
     ]
    }
   ],
   "source": [
    "print(accuracy_score(y, mnb.predict(x)))"
   ]
  },
  {
   "cell_type": "code",
   "execution_count": 13,
   "metadata": {},
   "outputs": [
    {
     "data": {
      "text/plain": [
       "['mnb.pkl']"
      ]
     },
     "execution_count": 13,
     "metadata": {},
     "output_type": "execute_result"
    }
   ],
   "source": [
    "from sklearn.externals import joblib\n",
    "\n",
    "# Save model to disk\n",
    "# joblib.dump(mnb, 'mnb.pkl')\n",
    "\n",
    "# Load model from disk\n",
    "mnb = joblib.load('mnb.pkl')"
   ]
  },
  {
   "cell_type": "code",
   "execution_count": 37,
   "metadata": {},
   "outputs": [],
   "source": [
    "model = BernoulliNB()\n",
    "model.fit(x,y)\n",
    "# model.predict(x)\n",
    "# print(accuracy_score(y, model.predict(x)))"
   ]
  },
  {
   "cell_type": "code",
   "execution_count": 6,
   "metadata": {},
   "outputs": [],
   "source": [
    "from sklearn.externals import joblib\n",
    "\n",
    "# Save model to disk\n",
    "# joblib.dump(model, 'model.pkl')\n",
    "\n",
    "# Load model from disk\n",
    "model = joblib.load('model.pkl')"
   ]
  },
  {
   "cell_type": "code",
   "execution_count": 21,
   "metadata": {},
   "outputs": [
    {
     "name": "stdout",
     "output_type": "stream",
     "text": [
      "0.8752197388247112\n"
     ]
    }
   ],
   "source": [
    "print(accuracy_score(y, model.predict(x)))"
   ]
  },
  {
   "cell_type": "code",
   "execution_count": 5,
   "metadata": {},
   "outputs": [],
   "source": [
    "# Handle get other sources with comparison to the real/satire news\n",
    "# Takes in a list of submission objects from the Pushshift API\n",
    "# Returns counter objects for each headline\n",
    "def cleanOther(theList):\n",
    "    wordCount = []\n",
    "    for title in theList:\n",
    "        if(len(title)<=1):\n",
    "            continue\n",
    "        if(isUrl(title)):\n",
    "            continue\n",
    "        # Check to make sure headline is English for simplicity\n",
    "        if (getLang(title) == \"en\"):\n",
    "            title = title.split()\n",
    "            # Set words to lowercase and remove them if they are stop words or not in master word list\n",
    "            words = [w.lower() for w in title if w.lower() not in stop_words]\n",
    "            words = [w.lower() for w in title if w.lower() not in wordList]\n",
    "            # Remove numbers\n",
    "            words = [w for w in title if not _isnum(w)]\n",
    "            # Add words to list of all words, and appends count of words of title\n",
    "            wordCount.append(Counter(words))\n",
    "        else:\n",
    "            continue\n",
    "    return wordCount"
   ]
  },
  {
   "cell_type": "code",
   "execution_count": 11,
   "metadata": {},
   "outputs": [],
   "source": [
    "# Prediction Model\n",
    "model.predict(rPredict)\n",
    "rP = model.predict_proba(rPredict)[:,1]\n",
    "model.predict(sPredict)\n",
    "sP = model.predict_proba(sPredict)[:,1]"
   ]
  },
  {
   "cell_type": "code",
   "execution_count": 12,
   "metadata": {},
   "outputs": [],
   "source": [
    "# Create counter objects\n",
    "cCount = cleanOther(cBias)\n",
    "lCount = cleanOther(lBias)\n",
    "\n",
    "cWords = []\n",
    "for c in cCount:\n",
    "    cWords.append(count(c,wordList))\n",
    "\n",
    "lWords = []\n",
    "for c in lCount:\n",
    "    lWords.append(count(c,wordList))"
   ]
  },
  {
   "cell_type": "code",
   "execution_count": 13,
   "metadata": {},
   "outputs": [],
   "source": [
    "cPredict = np.array(cWords)\n",
    "lPredict = np.array(lWords)"
   ]
  },
  {
   "cell_type": "code",
   "execution_count": 14,
   "metadata": {},
   "outputs": [],
   "source": [
    "# Save numpy array for guessing\n",
    "# np.save('cPredict.npy', cPredict)\n",
    "# np.save('lPredict.npy', lPredict)\n",
    "\n",
    "# Load numpy array\n",
    "cPredict = np.load('cPredict.npy')\n",
    "lPredict = np.load('lPredict.npy')"
   ]
  },
  {
   "cell_type": "code",
   "execution_count": 15,
   "metadata": {},
   "outputs": [
    {
     "name": "stdout",
     "output_type": "stream",
     "text": [
      "[1 1 1 ... 0 1 0]\n",
      "[0.97684649 0.99996381 0.99999992 0.9997409  0.99431583 0.04319447\n",
      " 0.99403167 0.99996748 0.99994234 0.00405255]\n"
     ]
    }
   ],
   "source": [
    "print(model.predict(cPredict))\n",
    "model.predict(cPredict)\n",
    "cP = model.predict_proba(cPredict)[:,1]\n",
    "model.predict(lPredict)\n",
    "lP = model.predict_proba(lPredict)[:,1]\n",
    "print(cP[0:10])"
   ]
  },
  {
   "cell_type": "code",
   "execution_count": 16,
   "metadata": {},
   "outputs": [],
   "source": [
    "erCount = cleanOther(erBias)\n",
    "elCount = cleanOther(elBias)\n",
    "\n",
    "erWords = []\n",
    "for c in erCount:\n",
    "    erWords.append(count(c,wordList))\n",
    "\n",
    "elWords = []\n",
    "for c in elCount:\n",
    "    elWords.append(count(c,wordList))\n",
    "    "
   ]
  },
  {
   "cell_type": "code",
   "execution_count": 17,
   "metadata": {},
   "outputs": [],
   "source": [
    "erPredict = np.array(erWords)\n",
    "elPredict = np.array(elWords)"
   ]
  },
  {
   "cell_type": "code",
   "execution_count": 18,
   "metadata": {},
   "outputs": [],
   "source": [
    "# Save numpy array for guessing\n",
    "# np.save('erPredict.npy', erPredict)\n",
    "# np.save('elPredict.npy', elPredict)\n",
    "\n",
    "# Load numpy array\n",
    "erPredict = np.load('erPredict.npy')\n",
    "elPredict = np.load('elPredict.npy')"
   ]
  },
  {
   "cell_type": "code",
   "execution_count": 19,
   "metadata": {},
   "outputs": [
    {
     "name": "stdout",
     "output_type": "stream",
     "text": [
      "[1 1 1 ... 1 1 0]\n"
     ]
    }
   ],
   "source": [
    "print(model.predict(erPredict))\n",
    "model.predict(erPredict)\n",
    "erP = model.predict_proba(erPredict)[:,1]\n",
    "model.predict(elPredict)\n",
    "elP = model.predict_proba(elPredict)[:,1]"
   ]
  },
  {
   "cell_type": "code",
   "execution_count": 20,
   "metadata": {},
   "outputs": [
    {
     "name": "stdout",
     "output_type": "stream",
     "text": [
      "16060\n",
      "13971\n"
     ]
    }
   ],
   "source": [
    "# TOP NEWS SOURCE\n",
    "cBiasU = []\n",
    "for s in cUrl:\n",
    "    cBiasU.append(s)\n",
    "\n",
    "lBiasU = []\n",
    "for s in lUrl:\n",
    "    lBiasU.append(s)\n",
    "\n",
    "print(len(cBiasU))\n",
    "print(len(lBiasU))"
   ]
  },
  {
   "cell_type": "code",
   "execution_count": 21,
   "metadata": {},
   "outputs": [],
   "source": [
    "# TOP NEWS SOURCE\n",
    "\n",
    "cUrlCount = Counter(cBiasU)\n",
    "lUrlCount = Counter(lBiasU)\n",
    "\n",
    "cUMost = list(cUrlCount.most_common(10))\n",
    "lUMost = list(lUrlCount.most_common(10))\n",
    "\n",
    "cx = []\n",
    "cy = []\n",
    "for i in range(len(cUMost)):\n",
    "    cx.append(cUMost[i][0])\n",
    "    cy.append(cUMost[i][1])\n",
    "\n",
    "lx = []\n",
    "ly = []\n",
    "for i in range(len(lUMost)):\n",
    "    lx.append(lUMost[i][0])\n",
    "    ly.append(lUMost[i][1])"
   ]
  },
  {
   "cell_type": "code",
   "execution_count": 22,
   "metadata": {},
   "outputs": [
    {
     "name": "stdout",
     "output_type": "stream",
     "text": [
      "18229\n",
      "10434\n"
     ]
    }
   ],
   "source": [
    "# TOP NEWS SOURCE\n",
    "rU = []\n",
    "sU = []\n",
    "for s in realU:\n",
    "    rU.append(s)\n",
    "for s in satireU:\n",
    "    sU.append(s)\n",
    "    \n",
    "print(len(rU))\n",
    "print(len(sU))"
   ]
  },
  {
   "cell_type": "code",
   "execution_count": 23,
   "metadata": {},
   "outputs": [],
   "source": [
    "# TOP NEWS SOURCE\n",
    "rUCount = Counter(rU)\n",
    "sUCount = Counter(sU)\n",
    "\n",
    "rUTop = list(rUCount.most_common(10))\n",
    "sUTop = list(sUCount.most_common(10))\n",
    "\n",
    "rx = []\n",
    "ry = []\n",
    "for i in range(len(rUTop)):\n",
    "    rx.append(rUTop[i][0])\n",
    "    ry.append(rUTop[i][1])\n",
    "\n",
    "sx = []\n",
    "sy = []\n",
    "for i in range(len(sUTop)):\n",
    "    sx.append(sUTop[i][0])\n",
    "    sy.append(sUTop[i][1])\n",
    "    "
   ]
  },
  {
   "cell_type": "code",
   "execution_count": 2,
   "metadata": {},
   "outputs": [],
   "source": [
    "# TOP NEWS SOURCE\n",
    "erU = []\n",
    "elU = []\n",
    "\n",
    "for s in erUrl:\n",
    "    erU.append(s)\n",
    "for s in elUrl:\n",
    "    elU.append(s)"
   ]
  },
  {
   "cell_type": "code",
   "execution_count": 6,
   "metadata": {},
   "outputs": [],
   "source": [
    "# TOP NEWS SOURCE\n",
    "erCount = Counter(erU)\n",
    "elCount = Counter(elU)\n",
    "\n",
    "erUTop = list(erCount.most_common(10))\n",
    "elUTop = list(elCount.most_common(10))\n",
    "\n",
    "erx = []\n",
    "ery = []\n",
    "for i in range(len(erUTop)):\n",
    "    erx.append(erUTop[i][0])\n",
    "    ery.append(erUTop[i][1])\n",
    "\n",
    "elx = []\n",
    "ely = []\n",
    "for i in range(len(elUTop)):\n",
    "    elx.append(elUTop[i][0])\n",
    "    ely.append(elUTop[i][1])\n",
    "\n"
   ]
  },
  {
   "cell_type": "code",
   "execution_count": 27,
   "metadata": {},
   "outputs": [
    {
     "data": {
      "image/png": "[encoded data removed]",
      "text/plain": [
       "<Figure size 1080x360 with 2 Axes>"
      ]
     },
     "metadata": {},
     "output_type": "display_data"
    }
   ],
   "source": [
    "import matplotlib.pyplot as plt\n",
    "import matplotlib.patches as mpatches\n",
    "\n",
    "\n",
    "black_patch = mpatches.Patch(color='black', label='Real News')\n",
    "grey_patch = mpatches.Patch(color='grey', label='Satire News')\n",
    "\n",
    "\n",
    "fig = plt.figure(figsize=(15,5))\n",
    "fig.legend(handles=[black_patch, grey_patch])\n",
    "plt.subplot(1,2,1)\n",
    "plt.suptitle(\"Predicted Truth Values News\")\n",
    "plt.title(\"Scale 0-1, 0=fake, 1=real\")\n",
    "plt.hist(rP, color='black')\n",
    "plt.ylabel(\"Count\")\n",
    "plt.xlabel(\"Truthiness Prediction\")\n",
    "plt.subplot(1,2,2)\n",
    "plt.hist(sP, color='grey')\n",
    "#plt.yticks([])\n",
    "plt.ylabel(\"Count\")\n",
    "plt.xlabel(\"Truthiness Prediction\")\n",
    "plt.show()\n"
   ]
  },
  {
   "cell_type": "code",
   "execution_count": 28,
   "metadata": {},
   "outputs": [
    {
     "data": {
      "image/png": "[encoded data removed]",
      "text/plain": [
       "<Figure size 1080x360 with 2 Axes>"
      ]
     },
     "metadata": {},
     "output_type": "display_data"
    }
   ],
   "source": [
    "# Comparison of biased news sources\n",
    "\n",
    "red_patch = mpatches.Patch(color='red', label='Conservative Bias')\n",
    "blue_patch = mpatches.Patch(color='blue', label='Liberal Bias')\n",
    "\n",
    "fig = plt.figure(figsize=(15,5))\n",
    "fig.legend(handles=[red_patch, blue_patch])\n",
    "plt.subplot(1,2,1)\n",
    "plt.suptitle(\"Predicted Truth Values Biased News\")\n",
    "plt.title(\"Scale 0-1, 0=fake, 1=real\")\n",
    "plt.hist(cP, color='red')\n",
    "plt.ylabel(\"Count\")\n",
    "plt.xlabel(\"Truthiness Prediction\")\n",
    "plt.subplot(1,2,2)\n",
    "plt.hist(lP, color='blue')\n",
    "#plt.yticks([])\n",
    "plt.ylabel(\"Count\")\n",
    "plt.xlabel(\"Truthiness Prediction\")\n",
    "plt.show()"
   ]
  },
  {
   "cell_type": "code",
   "execution_count": 29,
   "metadata": {},
   "outputs": [
    {
     "data": {
      "image/png": "[encoded data removed]",
      "text/plain": [
       "<Figure size 1080x360 with 2 Axes>"
      ]
     },
     "metadata": {},
     "output_type": "display_data"
    }
   ],
   "source": [
    "# Comparison of Extremely biased news sources\n",
    "\n",
    "fig = plt.figure(figsize=(15,5))\n",
    "fig.legend(handles=[red_patch, blue_patch])\n",
    "plt.subplot(1,2,1)\n",
    "plt.suptitle(\"Predicted Truth Values Extreme Biased News\")\n",
    "plt.title(\"Scale 0-1, 0=fake, 1=real\")\n",
    "plt.hist(erP, color='red')\n",
    "plt.ylabel(\"Count\")\n",
    "plt.xlabel(\"Truthiness Prediction\")\n",
    "plt.subplot(1,2,2)\n",
    "plt.hist(elP, color='blue')\n",
    "plt.ylabel(\"Count\")\n",
    "#plt.yticks([])\n",
    "plt.xlabel(\"Truthiness Prediction\")\n",
    "plt.show()"
   ]
  },
  {
   "cell_type": "code",
   "execution_count": 30,
   "metadata": {},
   "outputs": [
    {
     "data": {
      "image/png": "[encoded data removed]",
      "text/plain": [
       "<Figure size 1080x360 with 2 Axes>"
      ]
     },
     "metadata": {},
     "output_type": "display_data"
    }
   ],
   "source": [
    "# Comparison of News Sources\n",
    "\n",
    "fig = plt.figure(figsize=(15,5))\n",
    "plt.subplot(1,2,1)\n",
    "plt.title(\"Top 10 Real News Sources\")\n",
    "plt.bar(rx, ry, color='black')\n",
    "plt.ylabel(\"Count\")\n",
    "plt.xticks(rotation=90)\n",
    "\n",
    "plt.subplot(1,2,2)\n",
    "plt.title(\"Top 10 Satire News Sources\")\n",
    "plt.bar(sx, sy, color='grey')\n",
    "plt.ylabel(\"Count\")\n",
    "plt.xticks(rotation=90)\n",
    "plt.show()"
   ]
  },
  {
   "cell_type": "code",
   "execution_count": 31,
   "metadata": {},
   "outputs": [
    {
     "data": {
      "image/png": "[encoded data removed]",
      "text/plain": [
       "<Figure size 1080x360 with 2 Axes>"
      ]
     },
     "metadata": {},
     "output_type": "display_data"
    }
   ],
   "source": [
    "# Comparison of top biased news sources\n",
    "\n",
    "fig = plt.figure(figsize=(15,5))\n",
    "plt.subplot(1,2,1)\n",
    "plt.title(\"Top 10 Conservative Bias News Source\")\n",
    "plt.bar(cx, cy, color='red')\n",
    "plt.ylabel(\"Count\")\n",
    "plt.xticks(rotation=90)\n",
    "\n",
    "plt.subplot(1,2,2)\n",
    "plt.title(\"Top 10 Liberal Bias News Source\")\n",
    "plt.bar(lx, ly, color='blue')\n",
    "plt.ylabel(\"Count\")\n",
    "plt.xticks(rotation=90)\n",
    "plt.show()"
   ]
  },
  {
   "cell_type": "code",
   "execution_count": 9,
   "metadata": {},
   "outputs": [
    {
     "data": {
      "image/png": "[encoded data removed]",
      "text/plain": [
       "<Figure size 1080x360 with 2 Axes>"
      ]
     },
     "metadata": {},
     "output_type": "display_data"
    }
   ],
   "source": [
    "# Comparison of Top Extremely biased news sources\n",
    "import matplotlib.pyplot as plt\n",
    "import matplotlib.patches as mpatches\n",
    "\n",
    "fig = plt.figure(figsize=(15,5))\n",
    "plt.subplot(1,2,1)\n",
    "plt.title(\"Top 10 Extrmeme Conservative Bias News Source\")\n",
    "plt.bar(erx, ery, color='red')\n",
    "plt.ylabel(\"Count\")\n",
    "plt.xticks(rotation=90)\n",
    "\n",
    "plt.subplot(1,2,2)\n",
    "plt.title(\"Top 10 Extreme Liberal Bias News Source\")\n",
    "plt.bar(elx, ely, color='blue')\n",
    "plt.ylabel(\"Count\")\n",
    "plt.xticks(rotation=90)\n",
    "plt.show()"
   ]
  },
  {
   "cell_type": "code",
   "execution_count": 36,
   "metadata": {},
   "outputs": [
    {
     "name": "stdout",
     "output_type": "stream",
     "text": [
      "['Political Scientists Baffled By Trump’s Ability To End Something He Had No Control Over Just Days Ago']\n",
      "[Counter({'Political': 1, 'Scientists': 1, 'Baffled': 1, 'By': 1, 'Trump’s': 1, 'Ability': 1, 'To': 1, 'End': 1, 'Something': 1, 'He': 1, 'Had': 1, 'No': 1, 'Control': 1, 'Over': 1, 'Just': 1, 'Days': 1, 'Ago': 1})]\n",
      "[[0 0 0 ... 0 0 0]]\n",
      "[2.97284137e-09]\n",
      "[0]\n"
     ]
    }
   ],
   "source": [
    "# Input Analysis for User Inputted Title\n",
    "\n",
    "userTitle = input('Enter your input:')\n",
    "userList = []\n",
    "userList.append(userTitle)\n",
    "print(userList)\n",
    "userCount = cleanOther(userList)\n",
    "print(userCount)\n",
    "userWords = []\n",
    "for c in userCount:\n",
    "    userWords.append(count(c,wordList))\n",
    "\n",
    "userWords = np.array(userWords)\n",
    "print(userWords)\n",
    "print(model.predict_proba(userWords)[:,1])\n",
    "print(model.predict(userWords))\n"
   ]
  }
 ],
 "metadata": {
  "kernelspec": {
   "display_name": "Python 3",
   "language": "python",
   "name": "python3"
  },
  "language_info": {
   "codemirror_mode": {
    "name": "ipython",
    "version": 3
   },
   "file_extension": ".py",
   "mimetype": "text/x-python",
   "name": "python",
   "nbconvert_exporter": "python",
   "pygments_lexer": "ipython3",
   "version": "3.6.0"
  }
 },
 "nbformat": 4,
 "nbformat_minor": 2
}
